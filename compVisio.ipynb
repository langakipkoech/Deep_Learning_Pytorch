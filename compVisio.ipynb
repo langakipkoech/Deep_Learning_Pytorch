{
 "cells": [
  {
   "cell_type": "code",
   "execution_count": 11,
   "metadata": {},
   "outputs": [],
   "source": [
    "#import libraries\n",
    "import torch\n",
    "from torch import nn\n",
    "\n",
    "\n",
    "import torchvision\n",
    "from torchvision import datasets\n",
    "from torchvision.transforms import ToTensor\n",
    "\n",
    "\n",
    "import matplotlib.pyplot as plt"
   ]
  },
  {
   "attachments": {},
   "cell_type": "markdown",
   "metadata": {},
   "source": [
    "# Data preparation and loading"
   ]
  },
  {
   "cell_type": "code",
   "execution_count": 12,
   "metadata": {},
   "outputs": [],
   "source": [
    "#training and test data\n",
    "\n",
    "training_data = torchvision.datasets.FashionMNIST( root=\"data\",\n",
    "                                                  train = True,\n",
    "                                                  download=True,\n",
    "                                                  transform=ToTensor(),\n",
    "                                                  target_transform= None\n",
    ")\n",
    "\n",
    "test_data = torchvision.datasets.FashionMNIST(root=\"data\",\n",
    "                                 train = False,\n",
    "                                 download=True,\n",
    "                                 transform = ToTensor(),\n",
    "                                 \n",
    ")"
   ]
  },
  {
   "cell_type": "code",
   "execution_count": 16,
   "metadata": {},
   "outputs": [
    {
     "data": {
      "text/plain": [
       "(tensor([[[0.0000, 0.0000, 0.0000, 0.0000, 0.0039, 0.0000, 0.0000, 0.0000,\n",
       "           0.0000, 0.0863, 0.3451, 0.7373, 0.6745, 0.5176, 0.4902, 0.5529,\n",
       "           0.7804, 0.5608, 0.0353, 0.0000, 0.0000, 0.0000, 0.0039, 0.0000,\n",
       "           0.0000, 0.0000, 0.0000, 0.0000],\n",
       "          [0.0000, 0.0000, 0.0000, 0.0039, 0.0000, 0.0000, 0.0784, 0.5137,\n",
       "           0.7804, 0.8078, 0.7686, 0.7922, 0.9490, 1.0000, 1.0000, 0.9804,\n",
       "           0.8706, 0.7725, 0.8078, 0.7373, 0.4941, 0.0667, 0.0000, 0.0000,\n",
       "           0.0000, 0.0000, 0.0000, 0.0000],\n",
       "          [0.0000, 0.0000, 0.0000, 0.0039, 0.0000, 0.1373, 0.8392, 0.7490,\n",
       "           0.7176, 0.6980, 0.6863, 0.6588, 0.5882, 0.6353, 0.6235, 0.5961,\n",
       "           0.6196, 0.7020, 0.7176, 0.7412, 0.7647, 0.7255, 0.3216, 0.0000,\n",
       "           0.0000, 0.0000, 0.0000, 0.0000],\n",
       "          [0.0000, 0.0000, 0.0000, 0.0000, 0.0000, 0.6667, 0.7451, 0.6745,\n",
       "           0.6941, 0.6902, 0.6706, 0.6627, 0.6353, 0.6078, 0.5804, 0.6039,\n",
       "           0.6627, 0.6824, 0.6863, 0.6863, 0.6941, 0.7176, 0.7373, 0.0471,\n",
       "           0.0000, 0.0000, 0.0000, 0.0000],\n",
       "          [0.0000, 0.0000, 0.0000, 0.0000, 0.0980, 0.7608, 0.7059, 0.6980,\n",
       "           0.6824, 0.7216, 0.7333, 0.7412, 0.7333, 0.7216, 0.7098, 0.7412,\n",
       "           0.7843, 0.7725, 0.7569, 0.7451, 0.6980, 0.6863, 0.7608, 0.3529,\n",
       "           0.0000, 0.0000, 0.0000, 0.0000],\n",
       "          [0.0000, 0.0000, 0.0000, 0.0000, 0.1647, 0.8549, 0.7490, 0.7725,\n",
       "           0.8157, 0.8000, 0.8275, 0.8196, 0.8235, 0.8314, 0.8275, 0.8392,\n",
       "           0.8431, 0.8353, 0.8392, 0.8275, 0.8275, 0.7490, 0.7843, 0.6196,\n",
       "           0.0000, 0.0000, 0.0000, 0.0000],\n",
       "          [0.0000, 0.0000, 0.0000, 0.0000, 0.3451, 0.8667, 0.8431, 0.8510,\n",
       "           0.8588, 0.8275, 0.7255, 0.5882, 0.4627, 0.4196, 0.3882, 0.3451,\n",
       "           0.3255, 0.3529, 0.5294, 0.8314, 0.7961, 0.8118, 0.8588, 0.6627,\n",
       "           0.0000, 0.0000, 0.0000, 0.0000],\n",
       "          [0.0000, 0.0000, 0.0000, 0.0000, 0.0000, 0.1059, 0.4627, 0.6353,\n",
       "           0.1569, 0.0000, 0.0000, 0.0000, 0.0392, 0.0745, 0.1098, 0.1529,\n",
       "           0.1843, 0.1412, 0.0000, 0.0000, 0.7961, 0.9020, 0.8627, 0.7961,\n",
       "           0.0000, 0.0000, 0.0000, 0.0000],\n",
       "          [0.0000, 0.0000, 0.0000, 0.0000, 0.5412, 0.5333, 0.2784, 0.2706,\n",
       "           0.2118, 0.8471, 0.8510, 0.7961, 0.7216, 0.6588, 0.6392, 0.6353,\n",
       "           0.6392, 0.6980, 0.8667, 0.7294, 0.1490, 0.1020, 0.0275, 0.0000,\n",
       "           0.0000, 0.0000, 0.0000, 0.0000],\n",
       "          [0.0000, 0.0000, 0.0000, 0.0000, 0.2627, 0.5255, 0.6039, 0.8784,\n",
       "           0.5059, 0.2588, 0.3176, 0.4588, 0.5059, 0.5020, 0.5176, 0.5373,\n",
       "           0.5137, 0.5059, 0.3373, 0.2863, 0.6157, 0.5922, 0.5255, 0.8471,\n",
       "           0.0706, 0.0000, 0.0000, 0.0000],\n",
       "          [0.0000, 0.0000, 0.0000, 0.0000, 0.7961, 0.7765, 0.6745, 0.7176,\n",
       "           0.8078, 1.0000, 1.0000, 0.9804, 0.9529, 0.9412, 0.9373, 0.9216,\n",
       "           0.9333, 0.9569, 1.0000, 0.9333, 0.7216, 0.6275, 0.3373, 0.3843,\n",
       "           0.0000, 0.0000, 0.0000, 0.0000],\n",
       "          [0.0000, 0.0000, 0.0000, 0.0000, 0.4784, 0.7373, 0.8784, 0.5922,\n",
       "           0.4118, 0.4980, 0.3804, 0.3922, 0.4118, 0.4471, 0.4588, 0.4588,\n",
       "           0.4431, 0.4039, 0.3843, 0.4353, 0.5569, 0.9961, 0.7490, 1.0000,\n",
       "           0.1922, 0.0000, 0.0000, 0.0000],\n",
       "          [0.0000, 0.0000, 0.0000, 0.0000, 0.6392, 0.7020, 0.7843, 0.3725,\n",
       "           0.6039, 0.7765, 0.7725, 0.7843, 0.7843, 0.7765, 0.7725, 0.7765,\n",
       "           0.7804, 0.7922, 0.7843, 0.6902, 0.3373, 0.8078, 0.6157, 0.6353,\n",
       "           0.0392, 0.0000, 0.0000, 0.0000],\n",
       "          [0.0000, 0.0000, 0.0000, 0.0000, 0.7725, 0.7882, 0.8980, 0.2784,\n",
       "           0.5647, 0.7608, 0.7098, 0.7176, 0.7020, 0.7137, 0.7059, 0.7020,\n",
       "           0.7059, 0.7451, 0.7255, 0.7725, 0.2980, 0.8588, 0.7255, 0.7882,\n",
       "           0.1333, 0.0000, 0.0000, 0.0000],\n",
       "          [0.0000, 0.0000, 0.0000, 0.0000, 0.7804, 0.7569, 0.8863, 0.2275,\n",
       "           0.6039, 0.7529, 0.7216, 0.7333, 0.7216, 0.7294, 0.7216, 0.7255,\n",
       "           0.7176, 0.7529, 0.7490, 0.7843, 0.2196, 0.8588, 0.7961, 0.8118,\n",
       "           0.2353, 0.0000, 0.0000, 0.0000],\n",
       "          [0.0000, 0.0000, 0.0000, 0.0000, 0.7882, 0.7608, 0.8784, 0.1608,\n",
       "           0.6392, 0.7451, 0.7294, 0.7294, 0.7216, 0.7255, 0.7176, 0.7255,\n",
       "           0.6980, 0.7451, 0.7608, 0.7922, 0.1294, 0.8275, 0.7843, 0.8078,\n",
       "           0.2863, 0.0000, 0.0000, 0.0000],\n",
       "          [0.0000, 0.0000, 0.0000, 0.0000, 0.7882, 0.7725, 0.8706, 0.0667,\n",
       "           0.6745, 0.7451, 0.7294, 0.7333, 0.7137, 0.7294, 0.7255, 0.7333,\n",
       "           0.7059, 0.7333, 0.7569, 0.7922, 0.1020, 0.8314, 0.7922, 0.7961,\n",
       "           0.2980, 0.0000, 0.0000, 0.0000],\n",
       "          [0.0000, 0.0000, 0.0000, 0.0000, 0.7843, 0.7725, 0.8745, 0.0000,\n",
       "           0.6941, 0.7412, 0.7216, 0.7255, 0.6980, 0.7216, 0.7176, 0.7216,\n",
       "           0.7059, 0.7176, 0.7412, 0.7961, 0.1373, 0.7686, 0.7961, 0.7961,\n",
       "           0.3294, 0.0000, 0.0000, 0.0000],\n",
       "          [0.0000, 0.0000, 0.0000, 0.0000, 0.7843, 0.7725, 0.8745, 0.0000,\n",
       "           0.7255, 0.7333, 0.7255, 0.7333, 0.7059, 0.7216, 0.7137, 0.7176,\n",
       "           0.6980, 0.7137, 0.7176, 0.8039, 0.1725, 0.6235, 0.8118, 0.7882,\n",
       "           0.3333, 0.0000, 0.0000, 0.0000],\n",
       "          [0.0000, 0.0000, 0.0000, 0.0000, 0.7333, 0.7765, 0.8824, 0.0000,\n",
       "           0.7608, 0.7373, 0.7216, 0.7255, 0.7059, 0.7176, 0.7176, 0.7216,\n",
       "           0.7098, 0.7098, 0.6941, 0.8078, 0.1804, 0.5059, 0.8275, 0.7843,\n",
       "           0.3451, 0.0000, 0.0000, 0.0000],\n",
       "          [0.0000, 0.0000, 0.0000, 0.0235, 0.7294, 0.7843, 0.8275, 0.0000,\n",
       "           0.7804, 0.7412, 0.7216, 0.7216, 0.7255, 0.7137, 0.7176, 0.7216,\n",
       "           0.7255, 0.7137, 0.6863, 0.8039, 0.1961, 0.3804, 0.8471, 0.7725,\n",
       "           0.3647, 0.0000, 0.0000, 0.0000],\n",
       "          [0.0000, 0.0000, 0.0000, 0.0196, 0.7255, 0.8000, 0.7216, 0.0000,\n",
       "           0.7922, 0.7373, 0.7137, 0.7137, 0.7176, 0.7176, 0.7216, 0.7137,\n",
       "           0.7059, 0.7137, 0.6824, 0.7922, 0.2471, 0.2314, 0.8627, 0.7686,\n",
       "           0.3686, 0.0000, 0.0000, 0.0000],\n",
       "          [0.0000, 0.0000, 0.0000, 0.0196, 0.7216, 0.8078, 0.6157, 0.0000,\n",
       "           0.8000, 0.7333, 0.7333, 0.7412, 0.7529, 0.7451, 0.7451, 0.7490,\n",
       "           0.7451, 0.7333, 0.7176, 0.7922, 0.3059, 0.1373, 0.8706, 0.7725,\n",
       "           0.3725, 0.0000, 0.0000, 0.0000],\n",
       "          [0.0000, 0.0000, 0.0000, 0.0196, 0.7176, 0.8157, 0.4980, 0.0000,\n",
       "           0.7725, 0.6510, 0.6000, 0.5843, 0.5843, 0.5725, 0.5804, 0.5843,\n",
       "           0.5882, 0.5922, 0.6196, 0.7490, 0.3529, 0.0314, 0.8745, 0.7647,\n",
       "           0.3882, 0.0000, 0.0000, 0.0000],\n",
       "          [0.0000, 0.0000, 0.0000, 0.0235, 0.7216, 0.8157, 0.4471, 0.0000,\n",
       "           0.8000, 0.6784, 0.6314, 0.7059, 0.6902, 0.6745, 0.6784, 0.6784,\n",
       "           0.6824, 0.6902, 0.6353, 0.7922, 0.4510, 0.0000, 0.8980, 0.7804,\n",
       "           0.4118, 0.0000, 0.0000, 0.0000],\n",
       "          [0.0000, 0.0000, 0.0000, 0.0353, 0.6980, 0.8000, 0.4510, 0.0000,\n",
       "           0.4745, 0.5294, 0.4471, 0.4588, 0.4471, 0.4471, 0.4588, 0.4627,\n",
       "           0.4667, 0.4588, 0.4431, 0.5765, 0.2471, 0.0000, 0.8824, 0.7686,\n",
       "           0.4196, 0.0000, 0.0000, 0.0000],\n",
       "          [0.0000, 0.0000, 0.0000, 0.0706, 0.7059, 0.8078, 0.5137, 0.0000,\n",
       "           0.0000, 0.0000, 0.0000, 0.0000, 0.0000, 0.0000, 0.0000, 0.0000,\n",
       "           0.0000, 0.0000, 0.0000, 0.0000, 0.0000, 0.0000, 0.8784, 0.7725,\n",
       "           0.4824, 0.0000, 0.0000, 0.0000],\n",
       "          [0.0000, 0.0000, 0.0000, 0.0000, 0.5529, 0.5922, 0.2980, 0.0000,\n",
       "           0.0039, 0.0039, 0.0000, 0.0000, 0.0000, 0.0000, 0.0000, 0.0000,\n",
       "           0.0000, 0.0000, 0.0000, 0.0000, 0.0000, 0.0000, 0.5216, 0.6549,\n",
       "           0.2863, 0.0000, 0.0000, 0.0000]]]),\n",
       " 2)"
      ]
     },
     "execution_count": 16,
     "metadata": {},
     "output_type": "execute_result"
    }
   ],
   "source": [
    "#view the returned data, we know data type is tuple\n",
    "#returns image, index\n",
    "\n",
    "image, label = training_data[5]\n",
    "image, label"
   ]
  },
  {
   "cell_type": "code",
   "execution_count": 19,
   "metadata": {},
   "outputs": [
    {
     "data": {
      "image/png": "[encoded data removed]",
      "text/plain": [
       "<Figure size 640x480 with 1 Axes>"
      ]
     },
     "metadata": {},
     "output_type": "display_data"
    }
   ],
   "source": [
    "plt.plot(figsize=(6,7))\n",
    "plt.imshow(image.squeeze(), cmap='gray')\n",
    "plt.title(f\"{label}\")\n",
    "plt.show()"
   ]
  },
  {
   "cell_type": "code",
   "execution_count": 20,
   "metadata": {},
   "outputs": [
    {
     "data": {
      "text/plain": [
       "(60000, 10000)"
      ]
     },
     "execution_count": 20,
     "metadata": {},
     "output_type": "execute_result"
    }
   ],
   "source": [
    "len(training_data), len(test_data)"
   ]
  },
  {
   "cell_type": "code",
   "execution_count": 22,
   "metadata": {},
   "outputs": [
    {
     "data": {
      "text/plain": [
       "torch.Size([1, 28, 28])"
      ]
     },
     "execution_count": 22,
     "metadata": {},
     "output_type": "execute_result"
    }
   ],
   "source": [
    "image.shape\n"
   ]
  },
  {
   "cell_type": "code",
   "execution_count": null,
   "metadata": {},
   "outputs": [],
   "source": []
  }
 ],
 "metadata": {
  "kernelspec": {
   "display_name": "Python 3",
   "language": "python",
   "name": "python3"
  },
  "language_info": {
   "codemirror_mode": {
    "name": "ipython",
    "version": 3
   },
   "file_extension": ".py",
   "mimetype": "text/x-python",
   "name": "python",
   "nbconvert_exporter": "python",
   "pygments_lexer": "ipython3",
   "version": "3.10.6"
  },
  "orig_nbformat": 4
 },
 "nbformat": 4,
 "nbformat_minor": 2
}
